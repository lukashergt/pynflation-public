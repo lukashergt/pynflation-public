{
 "cells": [
  {
   "cell_type": "code",
   "execution_count": 1,
   "metadata": {},
   "outputs": [],
   "source": [
    "from __future__ import print_function, division, absolute_import\n",
    "import numpy as np\n",
    "import matplotlib as mpl\n",
    "import matplotlib.pyplot as plt\n",
    "\n",
    "from pynflation.parameters import MP\n",
    "from pynflation.potential import InflationaryPotential\n",
    "from pynflation.background import InflatonSolver\n",
    "from pynflation.plancksurface import *"
   ]
  },
  {
   "cell_type": "code",
   "execution_count": 2,
   "metadata": {},
   "outputs": [],
   "source": [
    "rcParams = {\n",
    "    \"font.serif\"           : \"Computer Modern Roman,      DejaVu Serif,     Bitstream Vera Serif, New Century Schoolbook, Century Schoolbook L, Utopia, ITC Bookman, Bookman, Nimbus Roman No9 L, Times New Roman, Times, Palatino, Charter, serif\",\n",
    "    \"font.sans-serif\"      : \"Computer Modern Sans Serif, DejaVu Sans,      Bitstream Vera Sans, Lucida Grande, Verdana, Geneva, Lucid, Arial, Helvetica, Avant Garde, sans-serif\",\n",
    "    \"font.monospace\"       : \"Computer Modern Typewriter, DejaVu Sans Mono, Bitstream Vera Sans Mono, Andale Mono, Nimbus Mono L, Courier New, Courier, Fixed, Terminal, monospace\",\n",
    "    \"font.family\"          : \"serif\",\n",
    "    \"font.size\"            : 8.0,\n",
    "\n",
    "    \"text.usetex\"          : True ,\n",
    "    \"text.latex.preview\"   : True,\n",
    "    \"mathtext.fontset\"     : \"cm\" ,\n",
    "\n",
    "    \"figure.figsize\"       : [3.2, 2.0],\n",
    "\n",
    "    \"axes.titlesize\"       : \"x-large\",  ## fontsize of the axes title\n",
    "    \"axes.linewidth\"       : 0.6,        ## edge linewidth\n",
    "\n",
    "    \"xtick.top\"            : True,       ## draw ticks on the top side\n",
    "    \"xtick.direction\"      : \"in\",       ## direction: in, out, or inout\n",
    "    \"xtick.major.size\"     : 2.,         ## major tick size in points\n",
    "    \"xtick.minor.size\"     : 1.,         ## minor tick size in points\n",
    "    \"xtick.major.width\"    : 0.6,\n",
    "    \"xtick.minor.width\"    : 0.4,\n",
    "    \"xtick.labelsize\"      : \"medium\",   ## fontsize of the tick labels\n",
    "    \"ytick.right\"          : True,       ## draw ticks on the right side\n",
    "    \"ytick.direction\"      : \"in\",       ## direction: in, out, or inout\n",
    "    \"ytick.major.size\"     : 2.,         ## major tick size in points\n",
    "    \"ytick.minor.size\"     : 1.,         ## minor tick size in points\n",
    "    \"ytick.major.width\"    : 0.6,\n",
    "    \"ytick.minor.width\"    : 0.4,\n",
    "    \"ytick.labelsize\"      : \"medium\",   ## fontsize of the tick labels\n",
    "\n",
    "    \"grid.linewidth\"       : 0.6,\n",
    "\n",
    "    \"lines.linewidth\"      : 1.0,\n",
    "\n",
    "    \"savefig.format\"       : \"pdf\",      ## png, ps, pdf, svg\n",
    "    \"savefig.bbox\"         : \"tight\",    ## 'tight' or 'standard'.\n",
    "    \"savefig.transparent\"  : True,\n",
    "}"
   ]
  },
  {
   "cell_type": "code",
   "execution_count": 3,
   "metadata": {},
   "outputs": [],
   "source": [
    "mpl.rcParams.update(rcParams)"
   ]
  },
  {
   "cell_type": "code",
   "execution_count": 4,
   "metadata": {},
   "outputs": [],
   "source": [
    "basecolor = '0.1'\n",
    "backcolor = '0.85'\n",
    "\n",
    "cKD_m2phi2 = mpl.cm.tab20(0)\n",
    "cSR_m2phi2 = mpl.cm.tab20(1)\n",
    "cKD_starob = mpl.cm.tab20(2)\n",
    "cSR_starob = mpl.cm.tab20(3)\n",
    "cKD_dbwell = mpl.cm.tab20(4)\n",
    "cSR_dbwell = mpl.cm.tab20(5)"
   ]
  }
 ],
 "metadata": {
  "kernelspec": {
   "display_name": "Python 2",
   "language": "python",
   "name": "python2"
  },
  "language_info": {
   "codemirror_mode": {
    "name": "ipython",
    "version": 2
   },
   "file_extension": ".py",
   "mimetype": "text/x-python",
   "name": "python",
   "nbconvert_exporter": "python",
   "pygments_lexer": "ipython2",
   "version": "2.7.5"
  }
 },
 "nbformat": 4,
 "nbformat_minor": 2
}
